{
 "cells": [
  {
   "cell_type": "code",
   "execution_count": null,
   "id": "0e7da18d",
   "metadata": {},
   "outputs": [
    {
     "name": "stdout",
     "output_type": "stream",
     "text": [
      "Apple\n",
      "['Cherry', 'Pineapple', 'Jackfruit']\n",
      "6\n",
      "<class 'list'>\n",
      "['Apple', 'Banana', 'Cherry', 'Pineapple', 'Jackfruit', 'Orange', 'Lemon']\n",
      "The Fruits is no in cart\n"
     ]
    }
   ],
   "source": [
    "fruits=[\"Apple\",\"Banana\",\"Cherry\",\"Pineapple\",\"Jackfruit\",\"Orange\"]\n",
    "\n",
    "print(fruits[0])               #---first variable---\n",
    "print(fruits[2:5])             #---slice---\n",
    "print(len(fruits))             #---length---\n",
    "print(type(fruits))            #---data type---\n",
    "fruits.append(\"Lemon\")         #---to add---\n",
    "fruits.append(\"Rambootan\")\n",
    "fruits.pop()                  #---to remove---\n",
    "# fruits.remove(\"Apple\")\n",
    "# print(fruits)\n",
    "print(fruits)                  #---to print all---\n",
    "\n",
    "#---to find a fruit in the cart---\n",
    "x = input(\"Fruit you need\")\n",
    "if x in fruits:\n",
    "    print(f\"The {x} is in the cart\")\n",
    "else:\n",
    "    print(\"The Fruits is no in cart\")"
   ]
  },
  {
   "cell_type": "code",
   "execution_count": 41,
   "id": "7d8479aa",
   "metadata": {},
   "outputs": [
    {
     "name": "stdout",
     "output_type": "stream",
     "text": [
      "Apple\n",
      "Banana\n",
      "Cherry\n",
      "Pineapple\n",
      "Jackfruit\n",
      "Orange\n",
      "Lemon\n"
     ]
    }
   ],
   "source": [
    "for i in fruits:\n",
    "    print(i)"
   ]
  },
  {
   "cell_type": "code",
   "execution_count": 45,
   "id": "00a23bb2",
   "metadata": {},
   "outputs": [
    {
     "name": "stdout",
     "output_type": "stream",
     "text": [
      "\n",
      "1. Add \n",
      "2. View \n",
      "3. Exit\n",
      "Added: 1\n"
     ]
    }
   ],
   "source": [
    "items = []\n",
    "\n",
    "while True:\n",
    "    print(\"\\n1. Add\",\"\\n2. View\", \"\\n3. Exit\")\n",
    "    Choice = input(\"Enter Your Choice\")\n",
    "    if Choice == \"1\":\n",
    "        it = input(\"Enter item: \").strip()\n",
    "        if it:\n",
    "            items.append(it)\n",
    "            print(\"Added:\",it)\n",
    "        else:\n",
    "            print(\"Enter input ignored.\")\n",
    "    elif Choice == \"2\":\n",
    "        if not items:\n",
    "            print(\"inventory empty.\")\n",
    "        else: \n",
    "            print(\"completerd\")\n",
    "    break"
   ]
  },
  {
   "cell_type": "code",
   "execution_count": 43,
   "id": "50e3997b",
   "metadata": {},
   "outputs": [
    {
     "name": "stdout",
     "output_type": "stream",
     "text": [
      "1 Apple\n",
      "2 Banana\n",
      "3 Cherry\n",
      "4 Pineapple\n",
      "5 Jackfruit\n",
      "6 Orange\n",
      "7 Lemon\n"
     ]
    }
   ],
   "source": [
    "for i, it in enumerate(fruits,start=1):\n",
    "    print(i,it)"
   ]
  }
 ],
 "metadata": {
  "kernelspec": {
   "display_name": "Python 3",
   "language": "python",
   "name": "python3"
  },
  "language_info": {
   "codemirror_mode": {
    "name": "ipython",
    "version": 3
   },
   "file_extension": ".py",
   "mimetype": "text/x-python",
   "name": "python",
   "nbconvert_exporter": "python",
   "pygments_lexer": "ipython3",
   "version": "3.13.1"
  }
 },
 "nbformat": 4,
 "nbformat_minor": 5
}
